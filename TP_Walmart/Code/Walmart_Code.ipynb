{
 "cells": [
  {
   "cell_type": "markdown",
   "metadata": {
    "id": "OFaHSevtBhz0"
   },
   "source": [
    "# Spark Walmart"
   ]
  },
  {
   "cell_type": "markdown",
   "metadata": {
    "id": "awIEywvdBhz3"
   },
   "source": [
    "## Import of libraries and modules"
   ]
  },
  {
   "cell_type": "code",
   "execution_count": 359,
   "metadata": {
    "id": "QIVsl-B_Bhz3"
   },
   "outputs": [],
   "source": [
    "from pyspark.sql import SparkSession\n",
    "from pyspark.sql.functions import *\n",
    "from pyspark.sql.functions import mean, min, max\n",
    "from pyspark.sql.types import IntegerType,DateType,DoubleType\n",
    "\n",
    "\n",
    "import pyspark.sql.functions as F"
   ]
  },
  {
   "cell_type": "markdown",
   "metadata": {
    "id": "ZWh72DjZBhz4"
   },
   "source": [
    "\n",
    "## Question 1 - Start a simple Spark Session"
   ]
  },
  {
   "cell_type": "code",
   "execution_count": 347,
   "metadata": {
    "id": "F60oKWYjBhz4"
   },
   "outputs": [],
   "source": [
    "spark = SparkSession.builder\\\n",
    "                    .master(\"local[*]\")\\\n",
    "                    .appName(\"walmart_stock\")\\\n",
    "                    .getOrCreate()"
   ]
  },
  {
   "cell_type": "markdown",
   "metadata": {
    "id": "awYkj7ODBhz4"
   },
   "source": [
    "## Question 2 - Load the Walmart Stock CSV File\n"
   ]
  },
  {
   "cell_type": "code",
   "execution_count": 348,
   "metadata": {
    "id": "_8kKBx3PBhz5",
    "outputId": "be21b8f6-08ee-4da8-9e87-c48ea00ad9ab"
   },
   "outputs": [
    {
     "name": "stdout",
     "output_type": "stream",
     "text": [
      "+----------+------------------+---------+---------+------------------+--------+------------------+\n",
      "|      Date|              Open|     High|      Low|             Close|  Volume|         Adj Close|\n",
      "+----------+------------------+---------+---------+------------------+--------+------------------+\n",
      "|2012-01-03|         59.970001|61.060001|59.869999|         60.330002|12668800|52.619234999999996|\n",
      "|2012-01-04|60.209998999999996|60.349998|59.470001|59.709998999999996| 9593300|         52.078475|\n",
      "|2012-01-05|         59.349998|59.619999|58.369999|         59.419998|12768200|         51.825539|\n",
      "|2012-01-06|         59.419998|59.450001|58.869999|              59.0| 8069400|          51.45922|\n",
      "|2012-01-09|         59.029999|59.549999|58.919998|             59.18| 6679300|51.616215000000004|\n",
      "+----------+------------------+---------+---------+------------------+--------+------------------+\n",
      "only showing top 5 rows\n",
      "\n"
     ]
    }
   ],
   "source": [
    "data = spark.read\\\n",
    "          .option(\"header\", True)\\\n",
    "          .csv(r\"D:\\Cours\\M2\\Spark-Hadoop\\TD4\\walmart_stock.csv\")\n",
    "\n",
    "# Showing top 5 rows\n",
    "data.show(5)"
   ]
  },
  {
   "cell_type": "markdown",
   "metadata": {
    "id": "Efqu9cfbBhz5"
   },
   "source": [
    "## Question 3 - What are the column names ?"
   ]
  },
  {
   "cell_type": "code",
   "execution_count": 349,
   "metadata": {
    "id": "eIGbTRt2Bhz6",
    "outputId": "d387502c-22ac-4f93-8fd7-199180095a61"
   },
   "outputs": [
    {
     "name": "stdout",
     "output_type": "stream",
     "text": [
      "The columns names are :  ['Date', 'Open', 'High', 'Low', 'Close', 'Volume', 'Adj Close']\n"
     ]
    }
   ],
   "source": [
    "columns_list = data.columns\n",
    "print(\"The columns names are : \", columns_list)"
   ]
  },
  {
   "cell_type": "markdown",
   "metadata": {
    "id": "yowes--RBhz6"
   },
   "source": [
    "## Question 4 - What does the Schema look like ?"
   ]
  },
  {
   "cell_type": "code",
   "execution_count": 350,
   "metadata": {
    "id": "XsrhIe-PBhz7",
    "outputId": "504b80bb-109e-4314-ef61-771edc2128df"
   },
   "outputs": [
    {
     "name": "stdout",
     "output_type": "stream",
     "text": [
      "The schema looks like this : \n",
      "root\n",
      " |-- Date: string (nullable = true)\n",
      " |-- Open: string (nullable = true)\n",
      " |-- High: string (nullable = true)\n",
      " |-- Low: string (nullable = true)\n",
      " |-- Close: string (nullable = true)\n",
      " |-- Volume: string (nullable = true)\n",
      " |-- Adj Close: string (nullable = true)\n",
      "\n",
      "The new schema looks like this : \n",
      "root\n",
      " |-- Date: date (nullable = true)\n",
      " |-- Open: double (nullable = true)\n",
      " |-- High: double (nullable = true)\n",
      " |-- Low: double (nullable = true)\n",
      " |-- Close: double (nullable = true)\n",
      " |-- Volume: integer (nullable = true)\n",
      " |-- Adj Close: double (nullable = true)\n",
      "\n"
     ]
    }
   ],
   "source": [
    "print(\"The schema looks like this : \")\n",
    "data.printSchema()\n",
    "\n",
    "#For the rest of the project, it is necessary to change the type of variables\n",
    "\n",
    "data = data.withColumn(\"Date\", data[\"Date\"].cast(DateType()))\\\n",
    "           .withColumn(\"Open\", data[\"Open\"].cast(DoubleType()))\\\n",
    "           .withColumn(\"High\", data[\"High\"].cast(DoubleType()))\\\n",
    "           .withColumn(\"Low\", data[\"Low\"].cast(DoubleType()))\\\n",
    "           .withColumn(\"Close\", data[\"Close\"].cast(DoubleType()))\\\n",
    "           .withColumn(\"Volume\", data[\"Volume\"].cast(IntegerType()))\\\n",
    "           .withColumn(\"Adj Close\", data[\"Adj Close\"].cast(DoubleType()))\n",
    "\n",
    "print(\"The new schema looks like this : \")\n",
    "data.printSchema()"
   ]
  },
  {
   "cell_type": "markdown",
   "metadata": {},
   "source": [
    "#### /!\\ Required to make SQL queries\n"
   ]
  },
  {
   "cell_type": "code",
   "execution_count": 351,
   "metadata": {},
   "outputs": [],
   "source": [
    "data.createOrReplaceTempView(\"data_SQL\")"
   ]
  },
  {
   "cell_type": "markdown",
   "metadata": {
    "id": "SsiCknPyBhz7"
   },
   "source": [
    "## Question 5 - Create a new dataframe with a column called HV Ratio that is the ratio of the High Price versus volume of stock traded for a day"
   ]
  },
  {
   "cell_type": "code",
   "execution_count": 352,
   "metadata": {
    "id": "FPQnVuKFBhz7",
    "outputId": "ef0ef479-03fd-4839-e602-03a84c2238a3"
   },
   "outputs": [
    {
     "name": "stdout",
     "output_type": "stream",
     "text": [
      "+--------------------+\n",
      "|            HV_ratio|\n",
      "+--------------------+\n",
      "|4.819714653321546E-6|\n",
      "|6.290848613094555E-6|\n",
      "|4.669412994783916E-6|\n",
      "|7.367338463826307E-6|\n",
      "|8.915604778943901E-6|\n",
      "|8.644477436914568E-6|\n",
      "|9.351828421515645E-6|\n",
      "| 8.29141562102703E-6|\n",
      "|7.712212102001476E-6|\n",
      "|7.071764823529412E-6|\n",
      "|1.015495466386981E-5|\n",
      "|6.576354146362592...|\n",
      "| 5.90145296180676E-6|\n",
      "|8.547679455011844E-6|\n",
      "|8.420709512685392E-6|\n",
      "|1.041448341728929...|\n",
      "|8.316075414862431E-6|\n",
      "|9.721183814992126E-6|\n",
      "|8.029436027707578E-6|\n",
      "|6.307432259386365E-6|\n",
      "+--------------------+\n",
      "only showing top 20 rows\n",
      "\n",
      "None\n",
      "+--------------------+\n",
      "|            HV_Ratio|\n",
      "+--------------------+\n",
      "|4.819714653321546E-6|\n",
      "|6.290848613094555E-6|\n",
      "|4.669412994783916E-6|\n",
      "|7.367338463826307E-6|\n",
      "|8.915604778943901E-6|\n",
      "|8.644477436914568E-6|\n",
      "|9.351828421515645E-6|\n",
      "| 8.29141562102703E-6|\n",
      "|7.712212102001476E-6|\n",
      "|7.071764823529412E-6|\n",
      "|1.015495466386981E-5|\n",
      "|6.576354146362592...|\n",
      "| 5.90145296180676E-6|\n",
      "|8.547679455011844E-6|\n",
      "|8.420709512685392E-6|\n",
      "|1.041448341728929...|\n",
      "|8.316075414862431E-6|\n",
      "|9.721183814992126E-6|\n",
      "|8.029436027707578E-6|\n",
      "|6.307432259386365E-6|\n",
      "+--------------------+\n",
      "only showing top 20 rows\n",
      "\n"
     ]
    }
   ],
   "source": [
    "# Python\n",
    "CreateHV_ratio = data.withColumn(\"HV_ratio\",col(\"High\")/col(\"Volume\"))\n",
    "print(CreateHV_ratio.select('HV_ratio').show())\n",
    "\n",
    "\n",
    "# SQL\n",
    "spark.sql(\"\"\"select High/Volume as HV_Ratio from data_SQL\"\"\").show()\n",
    "\n"
   ]
  },
  {
   "cell_type": "markdown",
   "metadata": {
    "id": "Hz5XEcyzBhz8"
   },
   "source": [
    "## Question 6 - What day had the Peak High in Price ?"
   ]
  },
  {
   "cell_type": "code",
   "execution_count": 360,
   "metadata": {
    "id": "ToAkaoqGBhz8",
    "outputId": "9272cfa0-a2fb-4687-f231-80aae7e0bbbd"
   },
   "outputs": [
    {
     "name": "stdout",
     "output_type": "stream",
     "text": [
      "[Row(Date=datetime.date(2015, 1, 13))]\n",
      "+----------+\n",
      "|      Date|\n",
      "+----------+\n",
      "|2015-01-13|\n",
      "+----------+\n",
      "\n"
     ]
    }
   ],
   "source": [
    "# Python\n",
    "print(data.orderBy(col(\"High\")\\\n",
    "          .desc())\\\n",
    "          .select(col(\"Date\"))\\\n",
    "          .head(1))  \n",
    "\n",
    "# SQL\n",
    "spark.sql(\"\"\"select Date from data_SQL order by High desc limit 1 \"\"\").show()"
   ]
  },
  {
   "cell_type": "markdown",
   "metadata": {
    "id": "f9V3sHXRBhz9"
   },
   "source": [
    " ## Question 7 - What is the mean of the Close column ?"
   ]
  },
  {
   "cell_type": "code",
   "execution_count": 366,
   "metadata": {
    "id": "YKaJkLpsBhz9",
    "outputId": "e67a6a1c-94a3-406c-a36e-b461df6f0ae9"
   },
   "outputs": [
    {
     "name": "stdout",
     "output_type": "stream",
     "text": [
      "The mean of the Close column is :\n",
      "+-----------------+\n",
      "|             Mean|\n",
      "+-----------------+\n",
      "|72.38844998012726|\n",
      "+-----------------+\n",
      "\n",
      "The mean of the Close column is :\n",
      "+-----------------+\n",
      "|             Mean|\n",
      "+-----------------+\n",
      "|72.38844998012726|\n",
      "+-----------------+\n",
      "\n"
     ]
    }
   ],
   "source": [
    "# Python\n",
    "print(\"The mean of the Close column is :\")\n",
    "data.select(col(\"Close\"))\\\n",
    "    .agg(avg(col(\"Close\")).alias(\"Mean\"))\\\n",
    "    .show()\n",
    "\n",
    "\n",
    "# SQL\n",
    "print(\"The mean of the Close column is :\")\n",
    "spark.sql(\"\"\"select mean(Close) as Mean from data_SQL\"\"\").show()\n",
    "\n"
   ]
  },
  {
   "cell_type": "markdown",
   "metadata": {
    "id": "ykmwNS5QCY62"
   },
   "source": [
    "## Question 8 - What is the max and min of the Volume column ?\n"
   ]
  },
  {
   "cell_type": "code",
   "execution_count": 365,
   "metadata": {
    "id": "tQbGqRW1Cg4T",
    "outputId": "0a0334c0-4abf-41a4-b041-e6f25e708d52"
   },
   "outputs": [
    {
     "name": "stdout",
     "output_type": "stream",
     "text": [
      "+--------------+--------------+\n",
      "|Minimum_volume|Maximum_volume|\n",
      "+--------------+--------------+\n",
      "|       2094900|      80898100|\n",
      "+--------------+--------------+\n",
      "\n",
      "+--------------+--------------+\n",
      "|Minimum_volume|Maximum_volume|\n",
      "+--------------+--------------+\n",
      "|       2094900|      80898100|\n",
      "+--------------+--------------+\n",
      "\n"
     ]
    }
   ],
   "source": [
    "# Python\n",
    "data.select([min(\"Volume\").alias(\"Minimum_volume\"), max(\"Volume\").alias(\"Maximum_volume\")])\\\n",
    "    .show()\n",
    "\n",
    "\n",
    "# SQL\n",
    "spark.sql(\"\"\"select min(Volume) as `Minimum_volume`, max(Volume) as `Maximum_volume` from data_SQL\"\"\").show()"
   ]
  },
  {
   "cell_type": "markdown",
   "metadata": {
    "id": "e_JfhK_4ChL_"
   },
   "source": [
    "## Question 9 - How many days was the Close lower than 60 dollars ?\n"
   ]
  },
  {
   "cell_type": "code",
   "execution_count": 364,
   "metadata": {
    "id": "Xdqs_OmgCqs-"
   },
   "outputs": [
    {
     "name": "stdout",
     "output_type": "stream",
     "text": [
      "+----------+\n",
      "|DaysNumber|\n",
      "+----------+\n",
      "|        81|\n",
      "+----------+\n",
      "\n",
      "+----------+\n",
      "|DaysNumber|\n",
      "+----------+\n",
      "|        81|\n",
      "+----------+\n",
      "\n"
     ]
    }
   ],
   "source": [
    "# Python\n",
    "data.filter(col(\"Close\") < 60)\\\n",
    "    .agg(count(col(\"Date\")).alias(\"DaysNumber\"))\\\n",
    "    .show()\n",
    "\n",
    "\n",
    "# SQL\n",
    "spark.sql(\"\"\"select count(Date) as DaysNumber from data_SQL where Close < 60\"\"\").show()"
   ]
  },
  {
   "cell_type": "markdown",
   "metadata": {
    "id": "kn-JHOdmCq0f"
   },
   "source": [
    "## Question 10 - What percentage of the time was the High greater than 80 dollars ?"
   ]
  },
  {
   "cell_type": "code",
   "execution_count": 300,
   "metadata": {
    "id": "0cP3R--MDqfq"
   },
   "outputs": [
    {
     "name": "stdout",
     "output_type": "stream",
     "text": [
      "There is 9.14 % of time which High was greater than $80.\n",
      "+----------+\n",
      "|Percentage|\n",
      "+----------+\n",
      "|      9.14|\n",
      "+----------+\n",
      "\n"
     ]
    }
   ],
   "source": [
    "# Python\n",
    "perctime = data.filter(col(\"High\")>80).count()/data.count()*100\n",
    "\n",
    "print('There is {:0.2f}'.format(perctime),\"%\",\"of time which High was greater than $80.\")\n",
    "\n",
    "\n",
    "# SQL\n",
    "spark.sql(\"\"\"select round(((select count(High) from data_SQL where High > 80)/count(High)*100),2) as Percentage from data_SQL\"\"\").show()"
   ]
  },
  {
   "cell_type": "markdown",
   "metadata": {
    "id": "RFuGa9M4Dqoh"
   },
   "source": [
    "## Question 11 - What is the max High per year ?\n"
   ]
  },
  {
   "cell_type": "code",
   "execution_count": 376,
   "metadata": {
    "id": "BHnsYtfnDwBo"
   },
   "outputs": [
    {
     "name": "stdout",
     "output_type": "stream",
     "text": [
      "+----+---------+\n",
      "|Year| Max_High|\n",
      "+----+---------+\n",
      "|2012|77.599998|\n",
      "|2013|81.370003|\n",
      "|2014|88.089996|\n",
      "|2015|90.970001|\n",
      "|2016|75.190002|\n",
      "+----+---------+\n",
      "\n",
      "+----+---------+\n",
      "|Year| Max_High|\n",
      "+----+---------+\n",
      "|2012|77.599998|\n",
      "|2013|81.370003|\n",
      "|2014|88.089996|\n",
      "|2015|90.970001|\n",
      "|2016|75.190002|\n",
      "+----+---------+\n",
      "\n"
     ]
    }
   ],
   "source": [
    "# Python\n",
    "data.groupby(year(\"Date\").alias(\"Year\"))\\\n",
    "    .agg(max(col(\"High\")).alias(\"Max_High\"))\\\n",
    "    .orderBy(\"Year\")\\\n",
    "    .show() \n",
    "\n",
    "#SQL \n",
    "spark.sql(\"\"\"select year(Date) as Year, max(High) as Max_High from data_SQL group by year order by year\"\"\").show()"
   ]
  },
  {
   "cell_type": "markdown",
   "metadata": {
    "id": "kSNoHc0ADwL0"
   },
   "source": [
    "## Question 12 - What is the average Close for each Calendar Month ?"
   ]
  },
  {
   "cell_type": "code",
   "execution_count": 378,
   "metadata": {
    "id": "7uonA7RYD_3z"
   },
   "outputs": [
    {
     "name": "stdout",
     "output_type": "stream",
     "text": [
      "+----+-----+------------------+\n",
      "|Year|Month|        Mean_Close|\n",
      "+----+-----+------------------+\n",
      "|2012|    1|        60.2354999|\n",
      "|2012|    2|            60.898|\n",
      "|2012|    3|60.433636818181796|\n",
      "|2012|    4|60.149000150000006|\n",
      "|2012|    5|61.456363409090905|\n",
      "|2012|    6| 67.50380961904762|\n",
      "|2012|    7| 72.40666661904763|\n",
      "|2012|    8| 73.04478265217392|\n",
      "|2012|    9| 74.18157921052631|\n",
      "|2012|   10| 75.30619061904761|\n",
      "|2012|   11| 71.10952333333333|\n",
      "|2012|   12| 69.71100009999999|\n",
      "|2013|    1| 69.09476142857143|\n",
      "|2013|    2| 70.62315857894738|\n",
      "|2013|    3| 73.43649940000002|\n",
      "|2013|    4| 77.68954572727273|\n",
      "|2013|    5| 77.81636368181817|\n",
      "|2013|    6| 74.97800020000001|\n",
      "|2013|    7| 77.11545418181818|\n",
      "|2013|    8| 75.22409204545455|\n",
      "+----+-----+------------------+\n",
      "only showing top 20 rows\n",
      "\n",
      "+----+-----+------------------+\n",
      "|Year|Month|              Mean|\n",
      "+----+-----+------------------+\n",
      "|2012|    1|        60.2354999|\n",
      "|2012|    2|            60.898|\n",
      "|2012|    3|60.433636818181796|\n",
      "|2012|    4|60.149000150000006|\n",
      "|2012|    5|61.456363409090905|\n",
      "|2012|    6| 67.50380961904762|\n",
      "|2012|    7| 72.40666661904763|\n",
      "|2012|    8| 73.04478265217392|\n",
      "|2012|    9| 74.18157921052631|\n",
      "|2012|   10| 75.30619061904761|\n",
      "|2012|   11| 71.10952333333333|\n",
      "|2012|   12| 69.71100009999999|\n",
      "|2013|    1| 69.09476142857143|\n",
      "|2013|    2| 70.62315857894738|\n",
      "|2013|    3| 73.43649940000002|\n",
      "|2013|    4| 77.68954572727273|\n",
      "|2013|    5| 77.81636368181817|\n",
      "|2013|    6| 74.97800020000001|\n",
      "|2013|    7| 77.11545418181818|\n",
      "|2013|    8| 75.22409204545455|\n",
      "+----+-----+------------------+\n",
      "only showing top 20 rows\n",
      "\n"
     ]
    }
   ],
   "source": [
    "# Python\n",
    "data.groupby(year(\"Date\").alias(\"Year\"),month(\"Date\").alias(\"Month\"))\\\n",
    "    .agg(avg(col(\"Close\")).alias(\"Mean_Close\"))\\\n",
    "    .orderBy(\"Year\",\"Month\")\\\n",
    "    .show()\n",
    "\n",
    "\n",
    "# SQL\n",
    "spark.sql(\"\"\"select year(Date) as Year, month(Date) as Month, mean(Close) as Mean from data_SQL group by Year,Month order by Year,Month\"\"\").show()"
   ]
  }
 ],
 "metadata": {
  "colab": {
   "collapsed_sections": [],
   "name": "TP_Walmart-2.ipynb",
   "provenance": []
  },
  "kernelspec": {
   "display_name": "Python 3",
   "language": "python",
   "name": "python3"
  },
  "language_info": {
   "codemirror_mode": {
    "name": "ipython",
    "version": 3
   },
   "file_extension": ".py",
   "mimetype": "text/x-python",
   "name": "python",
   "nbconvert_exporter": "python",
   "pygments_lexer": "ipython3",
   "version": "3.8.3"
  }
 },
 "nbformat": 4,
 "nbformat_minor": 1
}
